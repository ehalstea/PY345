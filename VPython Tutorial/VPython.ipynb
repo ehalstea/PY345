{
 "cells": [
  {
   "cell_type": "markdown",
   "metadata": {},
   "source": [
    "# VPython"
   ]
  },
  {
   "cell_type": "markdown",
   "metadata": {},
   "source": [
    "[VPython](http://vpython.org/) is a Python package to teach computational modeling in an introductory physics course.  [Jupyter VPython](https://github.com/BruceSherwood/vpython-jupyter) is based on iVisual by John Coady and is developed and maintained by Bruce Sherwood and Ruth Chabay. \n",
    "\n",
    "You can also run VPython in a browser using [GlowScript](http://www.glowscript.org/) or from an IDE or command line. A blog post by Bruce Sherwood gives the [history of VPython](https://matterandinteractions.wordpress.com/2016/04/27/a-time-line-for-vpython-development/) and recognizes a number of important contributors."
   ]
  },
  {
   "cell_type": "markdown",
   "metadata": {},
   "source": [
    "## Documentation and Examples"
   ]
  },
  {
   "cell_type": "markdown",
   "metadata": {},
   "source": [
    "For complete VPython documentation, go to [glowscript.org](http://www.glowscript.org/docs/VPythonDocs/index.html).\n",
    "\n",
    "GlowScript is a web-based application for writing and running VPython. It uses Google authentication, so it requires a gmail account. Jupyter is a general editor that includes stylized text, mathematical markup, and live code. It works with all Python packages (that have been installed on the server). GlowScript is exclusively for writing and running VPython and is recommended for first-time VPython programmers.\n",
    "\n",
    "You can view [Aaron Titus's publicly available VPython programs on GlowScript](http://www.glowscript.org/#/user/Aaron_Titus/folder/My_Programs/) to see more examples. (Aaron Titus wrote these tutorials.)"
   ]
  },
  {
   "cell_type": "markdown",
   "metadata": {},
   "source": [
    "## Import Packages"
   ]
  },
  {
   "cell_type": "markdown",
   "metadata": {},
   "source": [
    "Frequently you will import packages that provide additional codebase essential for mathematical and scientific applications. In this case, we want to use the `math` package and `vpython` package."
   ]
  },
  {
   "cell_type": "code",
   "execution_count": 1,
   "metadata": {
    "collapsed": false
   },
   "outputs": [
    {
     "data": {
      "application/javascript": [
       "require.undef(\"nbextensions/vpython_libraries/glow.min\");"
      ],
      "text/plain": [
       "<IPython.core.display.Javascript object>"
      ]
     },
     "metadata": {},
     "output_type": "display_data"
    },
    {
     "data": {
      "application/javascript": [
       "require.undef(\"nbextensions/vpython_libraries/glowcomm\");"
      ],
      "text/plain": [
       "<IPython.core.display.Javascript object>"
      ]
     },
     "metadata": {},
     "output_type": "display_data"
    },
    {
     "data": {
      "application/javascript": [
       "require.undef(\"nbextensions/vpython_libraries/jquery-ui.custom.min\");"
      ],
      "text/plain": [
       "<IPython.core.display.Javascript object>"
      ]
     },
     "metadata": {},
     "output_type": "display_data"
    },
    {
     "data": {
      "application/javascript": [
       "require([\"nbextensions/vpython_libraries/glow.min\"], function(){console.log(\"GLOW LOADED\");})"
      ],
      "text/plain": [
       "<IPython.core.display.Javascript object>"
      ]
     },
     "metadata": {},
     "output_type": "display_data"
    },
    {
     "data": {
      "application/javascript": [
       "require([\"nbextensions/vpython_libraries/glowcomm\"], function(){console.log(\"GLOWCOMM LOADED\");})"
      ],
      "text/plain": [
       "<IPython.core.display.Javascript object>"
      ]
     },
     "metadata": {},
     "output_type": "display_data"
    },
    {
     "data": {
      "application/javascript": [
       "require([\"nbextensions/vpython_libraries/jquery-ui.custom.min\"], function(){console.log(\"JQUERY LOADED\");})"
      ],
      "text/plain": [
       "<IPython.core.display.Javascript object>"
      ]
     },
     "metadata": {},
     "output_type": "display_data"
    },
    {
     "data": {
      "text/html": [
       "<div id=\"glowscript\" class=\"glowscript\"></div>"
      ],
      "text/plain": [
       "<IPython.core.display.HTML object>"
      ]
     },
     "metadata": {},
     "output_type": "display_data"
    },
    {
     "data": {
      "application/javascript": [
       "window.__context = { glowscript_container: $(\"#glowscript\").removeAttr(\"id\")}"
      ],
      "text/plain": [
       "<IPython.core.display.Javascript object>"
      ]
     },
     "metadata": {},
     "output_type": "display_data"
    }
   ],
   "source": [
    "from math import *\n",
    "from vpython import *"
   ]
  },
  {
   "cell_type": "markdown",
   "metadata": {},
   "source": [
    "If running the `import` statments above produces an error, then it is possible you need to install the vpython package. From the command line type:\n",
    "\n",
    "`pip install vpython`\n",
    "\n",
    "You should see a message that it was successfully installed."
   ]
  },
  {
   "cell_type": "markdown",
   "metadata": {},
   "source": [
    "## Create a 3D scene and sphere"
   ]
  },
  {
   "cell_type": "markdown",
   "metadata": {},
   "source": [
    "Now, we will create a 3D scene (including a title) and draw a sphere. The ``canvas()`` function creates the 3D window. The function ``sphere()`` creates a sphere."
   ]
  },
  {
   "cell_type": "code",
   "execution_count": 2,
   "metadata": {
    "collapsed": false
   },
   "outputs": [
    {
     "data": {
      "text/html": [
       "<div id=\"glowscript\" class=\"glowscript\"></div>"
      ],
      "text/plain": [
       "<IPython.core.display.HTML object>"
      ]
     },
     "metadata": {},
     "output_type": "display_data"
    },
    {
     "data": {
      "application/javascript": [
       "window.__context = { glowscript_container: $(\"#glowscript\").removeAttr(\"id\")}"
      ],
      "text/plain": [
       "<IPython.core.display.Javascript object>"
      ]
     },
     "metadata": {},
     "output_type": "display_data"
    }
   ],
   "source": [
    "scene=canvas(title=\"My first 3D scene\")\n",
    "sphere()"
   ]
  },
  {
   "cell_type": "markdown",
   "metadata": {},
   "source": [
    "By default the sphere is at the center of the scene, and the \"camera\" (your point of view) is looking directly at the center.\n",
    "\n",
    "If you are on a PC or have a two-button mouse, hold down both mouse buttons and move the mouse forward and backward to make the camera move closer or farther away from the center of the scene. On a Mac, hold down the option key and mouse button while moving the mouse forward and backward. This is how you *zoom* in VPython. A scroll wheel also zooms in and out.\n",
    "\n",
    "Hold down the right mouse button alone and move the mouse to make the camera revolve around the scene, while always looking at the center. On a Mac, in order to revolve around the scene, hold down the Control key while you click and drag the mouse. Because this is a sphere, you won't notice a significant change except for lighting.\n",
    "\n",
    "By default, when you first run the program, the coordinate system is defined with the positive x direction to the right, the positive y direction pointing up toward the top edge of the monitor, and the positive z direction coming out of the screen toward you. You can then rotate the camera view to make these axes point in other directions relative to the camera."
   ]
  },
  {
   "cell_type": "markdown",
   "metadata": {},
   "source": [
    "## Position and Other Properties of an Object"
   ]
  },
  {
   "cell_type": "markdown",
   "metadata": {},
   "source": [
    "Now let's give the sphere a different position in space, a radius, and a color. Run the program below.  Experiment with  changes to ``pos``, ``radius``, and ``color``. Run the program (shift-enter) each time you change an attribute to see its effect."
   ]
  },
  {
   "cell_type": "code",
   "execution_count": 3,
   "metadata": {
    "collapsed": false
   },
   "outputs": [
    {
     "data": {
      "text/html": [
       "<div id=\"glowscript\" class=\"glowscript\"></div>"
      ],
      "text/plain": [
       "<IPython.core.display.HTML object>"
      ]
     },
     "metadata": {},
     "output_type": "display_data"
    },
    {
     "data": {
      "application/javascript": [
       "window.__context = { glowscript_container: $(\"#glowscript\").removeAttr(\"id\")}"
      ],
      "text/plain": [
       "<IPython.core.display.Javascript object>"
      ]
     },
     "metadata": {},
     "output_type": "display_data"
    }
   ],
   "source": [
    "scene=canvas(title=\"My first 3D scene\")\n",
    "sphere(pos=vector(2,4,0), radius=0.40, color=color.red)"
   ]
  },
  {
   "cell_type": "markdown",
   "metadata": {},
   "source": [
    "## Autoscaling and Units"
   ]
  },
  {
   "cell_type": "markdown",
   "metadata": {},
   "source": [
    "VPython automatically zooms the camera in or out so all objects appear in the window. Because of this autoscaling, the numbers for the ``pos`` and ``radius`` can be in any consistent set of units, like meters, centimeters, inches, etc. For example, the previous program could represent a sphere with a radius 0.20 m at the position $(2,4,0)$ m."
   ]
  },
  {
   "cell_type": "markdown",
   "metadata": {},
   "source": [
    "## Creating a Box Object"
   ]
  },
  {
   "cell_type": "markdown",
   "metadata": {},
   "source": [
    "Another object we will often create is a box. A box is defined by its position, axis, length, width, and height as shown below.\n",
    "\n",
    "![box](box.jpg)\n",
    "(image from [VPython Docs](http://www.glowscript.org/docs/VPythonDocs/index.html))\n",
    "\n",
    "Run the following program to create a box. The length, width, and height of the box are expressed as a vector with the attribute: ``size=vector(L,H,W)``  .\n"
   ]
  },
  {
   "cell_type": "code",
   "execution_count": 4,
   "metadata": {
    "collapsed": false
   },
   "outputs": [
    {
     "data": {
      "text/html": [
       "<div id=\"glowscript\" class=\"glowscript\"></div>"
      ],
      "text/plain": [
       "<IPython.core.display.HTML object>"
      ]
     },
     "metadata": {},
     "output_type": "display_data"
    },
    {
     "data": {
      "application/javascript": [
       "window.__context = { glowscript_container: $(\"#glowscript\").removeAttr(\"id\")}"
      ],
      "text/plain": [
       "<IPython.core.display.Javascript object>"
      ]
     },
     "metadata": {},
     "output_type": "display_data"
    }
   ],
   "source": [
    "scene=canvas(title=\"Create a box\")\n",
    "box(pos=vector(0,0,0), size=vector(10,0.2,0.5), color=color.orange)"
   ]
  },
  {
   "cell_type": "markdown",
   "metadata": {},
   "source": [
    "Experiment by rotating the box, and zooming in and out. Change its length and re-run the program. Similarly change its height and width and re-run the program to observe the result."
   ]
  },
  {
   "cell_type": "markdown",
   "metadata": {},
   "source": [
    "## Comments"
   ]
  },
  {
   "cell_type": "markdown",
   "metadata": {},
   "source": [
    "Comment lines start with a \\# (called a pound sign or hashtag).  A comment line can be a note to yourself, such as:\n",
    "\n",
    "```python\n",
    "#units are meters\n",
    "```\n",
    "\n",
    "Or a comment can be used to remove a line of code temporarily, without erasing it. Putting a \\# at the beginning of the line creating the box, as shown below, will cause it to not appear.\n",
    "\n",
    "```python\n",
    "#box(pos=vector(0,0,0), size=vector(1,0.2,0.5), color=color.orange)\n",
    "```"
   ]
  },
  {
   "cell_type": "markdown",
   "metadata": {},
   "source": [
    "## Checkpoint \\#1"
   ]
  },
  {
   "cell_type": "markdown",
   "metadata": {},
   "source": [
    "We will draw a tennis court and will change the position of a tennis ball."
   ]
  },
  {
   "cell_type": "markdown",
   "metadata": {},
   "source": [
    "In the cell below, there is a code template that creates a scene, a box, and a sphere. Use what you've learned to:\n",
    "\n",
    "1.  Create a box that represents a tennis court. Make it green, 78 ft long, 36 ft wide, and 2 ft tall. Place its center at the origin.\n",
    "\n",
    "- Create an orange sphere (representing a tennis ball) at location $<-28,5,8>$ ft, with radius 1 ft. Of course a tennis ball is much smaller than this in real life, but we have to make it big enough to see it clearly in the scene. Sometimes we use unphysical sizes just to make objects visible.\n",
    "\n",
    "Remember, you don't type the units into your program. But rather, you should use a consistent set of units and know what they are. It's a good idea to use a comment line to indicate units.\n",
    "\n",
    "```python\n",
    "\n",
    "# units are ft\n",
    "\n",
    "```\n"
   ]
  },
  {
   "cell_type": "code",
   "execution_count": 5,
   "metadata": {
    "collapsed": false
   },
   "outputs": [
    {
     "data": {
      "text/html": [
       "<div id=\"glowscript\" class=\"glowscript\"></div>"
      ],
      "text/plain": [
       "<IPython.core.display.HTML object>"
      ]
     },
     "metadata": {},
     "output_type": "display_data"
    },
    {
     "data": {
      "application/javascript": [
       "window.__context = { glowscript_container: $(\"#glowscript\").removeAttr(\"id\")}"
      ],
      "text/plain": [
       "<IPython.core.display.Javascript object>"
      ]
     },
     "metadata": {},
     "output_type": "display_data"
    }
   ],
   "source": [
    "#Edit this code to make a green box at the origin, 78 ft long, 36 ft wide, and 2 ft tall.\n",
    "#Create an orange sphere at  <-28,5,8> ft with radius 1 ft.\n",
    "#Use a comment line to remind readers of the units\n",
    "scene=canvas(title=\"tennis court\")\n",
    "box()\n",
    "sphere()"
   ]
  },
  {
   "cell_type": "markdown",
   "metadata": {},
   "source": [
    "## Naming Objects; Using Object Names and Attributes"
   ]
  },
  {
   "cell_type": "markdown",
   "metadata": {},
   "source": [
    "Sometimes we want to change the position of the ball after we defined it. Thus, give a name to the sphere by adding ``tennisball=`` before the ``sphere()`` statement as shown below.\n",
    "\n",
    "```python\n",
    "tennisball=sphere(pos=vector(-28, 5, 8), radius=1, color=color.orange)\n",
    "```\n",
    "\n",
    "We've now given the name ```tennisball``` to the sphere. We can use this name later in the program to refer to the sphere. Furthermore, we can specifically refer to the attributes of the sphere by writing, for example, ``tennisball.pos`` to refer to the tennis ball's position attribute, or ``tennisball.color`` to refer to the tennis ball's color attribute. To see how this works, run the following cell."
   ]
  },
  {
   "cell_type": "code",
   "execution_count": 6,
   "metadata": {
    "collapsed": false
   },
   "outputs": [
    {
     "name": "stdout",
     "output_type": "stream",
     "text": [
      "<-28.000000, 5.000000, 8.000000>\n"
     ]
    }
   ],
   "source": [
    "tennisball=sphere(pos=vector(-28, 5, 8), radius=1, color=color.orange)\n",
    "print(tennisball.pos)"
   ]
  },
  {
   "cell_type": "markdown",
   "metadata": {},
   "source": [
    "We can change the ball's position by changing ```tennisball.pos``` to a new vector. Run the following program where the ball's position is changed. The ball is first drawn at the position $<-28, 5, 8>$ and then redrawn at the new position $<0,6,0>$. This happens so quickly that you do not notice the tennis ball drawn at the first location which is why printing the values is so useful."
   ]
  },
  {
   "cell_type": "code",
   "execution_count": 7,
   "metadata": {
    "collapsed": false
   },
   "outputs": [
    {
     "data": {
      "text/html": [
       "<div id=\"glowscript\" class=\"glowscript\"></div>"
      ],
      "text/plain": [
       "<IPython.core.display.HTML object>"
      ]
     },
     "metadata": {},
     "output_type": "display_data"
    },
    {
     "data": {
      "application/javascript": [
       "window.__context = { glowscript_container: $(\"#glowscript\").removeAttr(\"id\")}"
      ],
      "text/plain": [
       "<IPython.core.display.Javascript object>"
      ]
     },
     "metadata": {},
     "output_type": "display_data"
    },
    {
     "name": "stdout",
     "output_type": "stream",
     "text": [
      "<-28.000000, 5.000000, 8.000000>\n",
      "<0.000000, 6.000000, 0.000000>\n"
     ]
    }
   ],
   "source": [
    "scene=canvas(title=\"tennis court\")\n",
    "box(pos=vector(0,0,0), size=vector(78,2,36), color=color.green)\n",
    "tennisball=sphere(pos=vector(-28, 5, 8), radius=1, color=color.orange)\n",
    "print(tennisball.pos)\n",
    "tennisball.pos=vector(0,6,0)\n",
    "print(tennisball.pos)"
   ]
  },
  {
   "cell_type": "markdown",
   "metadata": {},
   "source": [
    "## Motion with Constant Velocity"
   ]
  },
  {
   "cell_type": "markdown",
   "metadata": {},
   "source": [
    "In general, every program that models the motion of physical objects has two main parts:\n",
    "\n",
    "1. **Before the loop**: The first part of the program tells the computer to:\n",
    "    1. Create 3D objects.\n",
    "\t- Give them initial positions and velocities.\n",
    "\t- Define numerical values for constants we might need.\n",
    "2. **The ``while`` loop**:  The second part of the program, the loop, contains the lines that the computer reads to tell it how to update the positions of the objects over and over again, making them move on the screen.\n",
    "\n",
    "To learn how to model the motion of an object, we will write a program to model the motion of a steel ball moving with a constant velocity as it rolls across a track.  \n",
    "\n",
    "The track is at the origin and has a length of 3 m, a height of 0.05 m, and a width of 0.1 m. We will make the y-position of the track -0.075 m (below zero). The track's height is 0.05 m. If we add half the height to the center of the track, then the top surface of the track is at -0.05 m. We can place a ball of radius 0.05 m at $y=0$ such that it appears to be on top of the track.\n"
   ]
  },
  {
   "cell_type": "code",
   "execution_count": 8,
   "metadata": {
    "collapsed": false
   },
   "outputs": [
    {
     "data": {
      "text/html": [
       "<div id=\"glowscript\" class=\"glowscript\"></div>"
      ],
      "text/plain": [
       "<IPython.core.display.HTML object>"
      ]
     },
     "metadata": {},
     "output_type": "display_data"
    },
    {
     "data": {
      "application/javascript": [
       "window.__context = { glowscript_container: $(\"#glowscript\").removeAttr(\"id\")}"
      ],
      "text/plain": [
       "<IPython.core.display.Javascript object>"
      ]
     },
     "metadata": {},
     "output_type": "display_data"
    }
   ],
   "source": [
    "scene=canvas(title=\"Ball on Track with Constant Velocity\")\n",
    "track=box(pos=vector(0,-0.075,0), size=vector(3,0.05,0.1), color=color.white)\n",
    "ball=sphere(pos=vector(-1.4,0,0), radius=0.05, color=color.orange)"
   ]
  },
  {
   "cell_type": "markdown",
   "metadata": {},
   "source": [
    "## Defining the Velocity of the Ball"
   ]
  },
  {
   "cell_type": "markdown",
   "metadata": {},
   "source": [
    "Now, we will define the velocity of the ball to be to the right with a speed of 0.3 m/s. A unit vector that points to the right is $<1,0,0>$. So, the velocity of the ball can be written on paper as:\n",
    "\n",
    "$$\\vec{v} = |\\vec{v}|\\hat{v} = 0.3<1,0,0>$$\n",
    "\n",
    "Next we will see how to write this in VPython.\n",
    "\n",
    "Just as the position of the ball is referenced as ``ball.pos``, let's define the ball's velocity as ``ball.v`` which indicates that $v$ is a property of the object named ``ball``.  Thus, we will write the ball's velocity as\n",
    "\n",
    "```python\n",
    "\n",
    "ball.v=0.3*vector(1,0,0)\n",
    "\n",
    "```\n",
    "\n",
    "This statement creates a property of the ball  ``ball.v`` that is a vector quantity with a magnitude 0.3 that points to the right.  Whenever you want to refer to the velocity of the ball, you must refer to ``ball.v``. For example, \n",
    "use\n",
    "\n",
    "```python\n",
    "\n",
    "print(ball.v)\n",
    "\n",
    "```\n",
    "\n",
    "to print the ball's velocity."
   ]
  },
  {
   "cell_type": "markdown",
   "metadata": {},
   "source": [
    "## Defining Values for Other Constants and Variables"
   ]
  },
  {
   "cell_type": "markdown",
   "metadata": {},
   "source": [
    "To make an object move, we will update its position every $\\Delta t$ seconds. In general, $\\Delta t$ should be small enough such that the displacement of the object is small. The size of $\\Delta t$ also affects the speed at which your program runs. If it is exceedingly small, then the computer has to do lots of calculations just to make your object move across your screen. This will slow down the computer.\n",
    "\n",
    "For now, let's use 1 hundredth of a second as the time step, $\\Delta t$. Let's define a variable $dt$ for the time interval.\n",
    "\n",
    "```python\n",
    "dt=0.01\n",
    "```\n",
    "\n",
    "Also, let's define the total time $t$ for the clock. The clock starts out at $t=0$.\n",
    "\n",
    "```python\n",
    "\n",
    "t=0\n",
    "\n",
    "```\n",
    "\n",
    "That completes the first part of the program which tells the computer to:\n",
    "\n",
    "1. Create the 3D objects and name them.\n",
    "- Give the ball an initial position and velocity.\n",
    "- Define variable names for the clock reading $t$ and the time interval $dt$.\n",
    "\n",
    "Run the program below. Note that the ball doesn't move because we have not added a loop to change its position.\n"
   ]
  },
  {
   "cell_type": "code",
   "execution_count": 9,
   "metadata": {
    "collapsed": false
   },
   "outputs": [
    {
     "data": {
      "text/html": [
       "<div id=\"glowscript\" class=\"glowscript\"></div>"
      ],
      "text/plain": [
       "<IPython.core.display.HTML object>"
      ]
     },
     "metadata": {},
     "output_type": "display_data"
    },
    {
     "data": {
      "application/javascript": [
       "window.__context = { glowscript_container: $(\"#glowscript\").removeAttr(\"id\")}"
      ],
      "text/plain": [
       "<IPython.core.display.Javascript object>"
      ]
     },
     "metadata": {},
     "output_type": "display_data"
    },
    {
     "name": "stdout",
     "output_type": "stream",
     "text": [
      "<0.300000, 0.000000, 0.000000>\n"
     ]
    }
   ],
   "source": [
    "scene=canvas(title=\"Ball on Track with Constant Velocity\")\n",
    "track=box(pos=vector(0,-0.075,0), size=vector(3,0.05,0.1), color=color.white)\n",
    "ball=sphere(pos=vector(-1.4,0,0), radius=0.05, color=color.orange)\n",
    "\n",
    "ball.v=0.3*vector(1,0,0)\n",
    "\n",
    "print(ball.v)\n",
    "\n",
    "dt=0.01\n",
    "t=0\n"
   ]
  },
  {
   "cell_type": "markdown",
   "metadata": {},
   "source": [
    "## Creating a ``while`` loop to continuously calculate the position of the object"
   ]
  },
  {
   "cell_type": "markdown",
   "metadata": {},
   "source": [
    "We will now create a ```while``` loop. Each time the program runs through this loop, it will:\n",
    "\n",
    "1. Calculate the displacement of the ball and add it to the ball's previous position in order to find its new position. This is known as the *position update*.\n",
    "2. Calculate the clock reading by incrementing $t$ by an amount $dt$ through each iteration of the loop. This is the *time update*.\n",
    "3. Repeat.\n",
    "\n",
    "To see how this works, let's write a loop that updates the clock reading $t$ and prints the result.\n"
   ]
  },
  {
   "cell_type": "code",
   "execution_count": 10,
   "metadata": {
    "collapsed": false
   },
   "outputs": [
    {
     "name": "stdout",
     "output_type": "stream",
     "text": [
      "0.01\n",
      "0.02\n",
      "0.03\n",
      "0.04\n",
      "0.05\n",
      "0.06\n",
      "0.07\n",
      "0.08\n",
      "0.09\n",
      "0.1\n",
      "0.11\n",
      "0.12\n",
      "0.13\n",
      "0.14\n",
      "0.15\n",
      "0.16\n",
      "0.17\n",
      "0.18\n",
      "0.19\n",
      "0.2\n",
      "0.21\n",
      "0.22\n",
      "0.23\n",
      "0.24\n",
      "0.25\n",
      "0.26\n",
      "0.27\n",
      "0.28\n",
      "0.29\n",
      "0.3\n",
      "0.31\n",
      "0.32\n",
      "0.33\n",
      "0.34\n",
      "0.35\n",
      "0.36\n",
      "0.37\n",
      "0.38\n",
      "0.39\n",
      "0.4\n",
      "0.41\n",
      "0.42\n",
      "0.43\n",
      "0.44\n",
      "0.45\n",
      "0.46\n",
      "0.47\n",
      "0.48\n",
      "0.49\n",
      "0.5\n",
      "0.51\n",
      "0.52\n",
      "0.53\n",
      "0.54\n",
      "0.55\n",
      "0.56\n",
      "0.57\n",
      "0.58\n",
      "0.59\n",
      "0.6\n",
      "0.61\n",
      "0.62\n",
      "0.63\n",
      "0.64\n",
      "0.65\n",
      "0.66\n",
      "0.67\n",
      "0.68\n",
      "0.69\n",
      "0.7\n",
      "0.71\n",
      "0.72\n",
      "0.73\n",
      "0.74\n",
      "0.75\n",
      "0.76\n",
      "0.77\n",
      "0.78\n",
      "0.79\n",
      "0.8\n",
      "0.81\n",
      "0.82\n",
      "0.83\n",
      "0.84\n",
      "0.85\n",
      "0.86\n",
      "0.87\n",
      "0.88\n",
      "0.89\n",
      "0.9\n",
      "0.91\n",
      "0.92\n",
      "0.93\n",
      "0.94\n",
      "0.95\n",
      "0.96\n",
      "0.97\n",
      "0.98\n",
      "0.99\n",
      "1.0\n",
      "1.01\n",
      "1.02\n",
      "1.03\n",
      "1.04\n",
      "1.05\n",
      "1.06\n",
      "1.07\n",
      "1.08\n",
      "1.09\n",
      "1.1\n",
      "1.11\n",
      "1.12\n",
      "1.13\n",
      "1.14\n",
      "1.15\n",
      "1.16\n",
      "1.17\n",
      "1.18\n",
      "1.19\n",
      "1.2\n",
      "1.21\n",
      "1.22\n",
      "1.23\n",
      "1.24\n",
      "1.25\n",
      "1.26\n",
      "1.27\n",
      "1.28\n",
      "1.29\n",
      "1.3\n",
      "1.31\n",
      "1.32\n",
      "1.33\n",
      "1.34\n",
      "1.35\n",
      "1.36\n",
      "1.37\n",
      "1.38\n",
      "1.39\n",
      "1.4\n",
      "1.41\n",
      "1.42\n",
      "1.43\n",
      "1.44\n",
      "1.45\n",
      "1.46\n",
      "1.47\n",
      "1.48\n",
      "1.49\n",
      "1.5\n",
      "1.51\n",
      "1.52\n",
      "1.53\n",
      "1.54\n",
      "1.55\n",
      "1.56\n",
      "1.57\n",
      "1.58\n",
      "1.59\n",
      "1.6\n",
      "1.61\n",
      "1.62\n",
      "1.63\n",
      "1.64\n",
      "1.65\n",
      "1.66\n",
      "1.67\n",
      "1.68\n",
      "1.69\n",
      "1.7\n",
      "1.71\n",
      "1.72\n",
      "1.73\n",
      "1.74\n",
      "1.75\n",
      "1.76\n",
      "1.77\n",
      "1.78\n",
      "1.79\n",
      "1.8\n",
      "1.81\n",
      "1.82\n",
      "1.83\n",
      "1.84\n",
      "1.85\n",
      "1.86\n",
      "1.87\n",
      "1.88\n",
      "1.89\n",
      "1.9\n",
      "1.91\n",
      "1.92\n",
      "1.93\n",
      "1.94\n",
      "1.95\n",
      "1.96\n",
      "1.97\n",
      "1.98\n",
      "1.99\n",
      "2.0\n",
      "2.01\n",
      "2.02\n",
      "2.03\n",
      "2.04\n",
      "2.05\n",
      "2.06\n",
      "2.07\n",
      "2.08\n",
      "2.09\n",
      "2.1\n",
      "2.11\n",
      "2.12\n",
      "2.13\n",
      "2.14\n",
      "2.15\n",
      "2.16\n",
      "2.17\n",
      "2.18\n",
      "2.19\n",
      "2.2\n",
      "2.21\n",
      "2.22\n",
      "2.23\n",
      "2.24\n",
      "2.25\n",
      "2.26\n",
      "2.27\n",
      "2.28\n",
      "2.29\n",
      "2.3\n",
      "2.31\n",
      "2.32\n",
      "2.33\n",
      "2.34\n",
      "2.35\n",
      "2.36\n",
      "2.37\n",
      "2.38\n",
      "2.39\n",
      "2.4\n",
      "2.41\n",
      "2.42\n",
      "2.43\n",
      "2.44\n",
      "2.45\n",
      "2.46\n",
      "2.47\n",
      "2.48\n",
      "2.49\n",
      "2.5\n",
      "2.51\n",
      "2.52\n",
      "2.53\n",
      "2.54\n",
      "2.55\n",
      "2.56\n",
      "2.57\n",
      "2.58\n",
      "2.59\n",
      "2.6\n",
      "2.61\n",
      "2.62\n",
      "2.63\n",
      "2.64\n",
      "2.65\n",
      "2.66\n",
      "2.67\n",
      "2.68\n",
      "2.69\n",
      "2.7\n",
      "2.71\n",
      "2.72\n",
      "2.73\n",
      "2.74\n",
      "2.75\n",
      "2.76\n",
      "2.77\n",
      "2.78\n",
      "2.79\n",
      "2.8\n",
      "2.81\n",
      "2.82\n",
      "2.83\n",
      "2.84\n",
      "2.85\n",
      "2.86\n",
      "2.87\n",
      "2.88\n",
      "2.89\n",
      "2.9\n",
      "2.91\n",
      "2.92\n",
      "2.93\n",
      "2.94\n",
      "2.95\n",
      "2.96\n",
      "2.97\n",
      "2.98\n",
      "2.99\n",
      "3.0\n",
      "3.01\n",
      "3.02\n",
      "3.03\n",
      "3.04\n",
      "3.05\n",
      "3.06\n",
      "3.07\n",
      "3.08\n",
      "3.09\n",
      "3.1\n",
      "3.11\n",
      "3.12\n",
      "3.13\n",
      "3.14\n",
      "3.15\n",
      "3.16\n",
      "3.17\n",
      "3.18\n",
      "3.19\n",
      "3.2\n",
      "3.21\n",
      "3.22\n",
      "3.23\n",
      "3.24\n",
      "3.25\n",
      "3.26\n",
      "3.27\n",
      "3.28\n",
      "3.29\n",
      "3.3\n",
      "3.31\n",
      "3.32\n",
      "3.33\n",
      "3.34\n",
      "3.35\n",
      "3.36\n",
      "3.37\n",
      "3.38\n",
      "3.39\n",
      "3.4\n",
      "3.41\n",
      "3.42\n",
      "3.43\n",
      "3.44\n",
      "3.45\n",
      "3.46\n",
      "3.47\n",
      "3.48\n",
      "3.49\n",
      "3.5\n",
      "3.51\n",
      "3.52\n",
      "3.53\n",
      "3.54\n",
      "3.55\n",
      "3.56\n",
      "3.57\n",
      "3.58\n",
      "3.59\n",
      "3.6\n",
      "3.61\n",
      "3.62\n",
      "3.63\n",
      "3.64\n",
      "3.65\n",
      "3.66\n",
      "3.67\n",
      "3.68\n",
      "3.69\n",
      "3.7\n",
      "3.71\n",
      "3.72\n",
      "3.73\n",
      "3.74\n",
      "3.75\n",
      "3.76\n",
      "3.77\n",
      "3.78\n",
      "3.79\n",
      "3.8\n",
      "3.81\n",
      "3.82\n",
      "3.83\n",
      "3.84\n",
      "3.85\n",
      "3.86\n",
      "3.87\n",
      "3.88\n",
      "3.89\n",
      "3.9\n",
      "3.91\n",
      "3.92\n",
      "3.93\n",
      "3.94\n",
      "3.95\n",
      "3.96\n",
      "3.97\n",
      "3.98\n",
      "3.99\n",
      "4.0\n",
      "4.01\n",
      "4.02\n",
      "4.03\n",
      "4.04\n",
      "4.05\n",
      "4.06\n",
      "4.07\n",
      "4.08\n",
      "4.09\n",
      "4.1\n",
      "4.11\n",
      "4.12\n",
      "4.13\n",
      "4.14\n",
      "4.15\n",
      "4.16\n",
      "4.17\n",
      "4.18\n",
      "4.19\n",
      "4.2\n",
      "4.21\n",
      "4.22\n",
      "4.23\n",
      "4.24\n",
      "4.25\n",
      "4.26\n",
      "4.27\n",
      "4.28\n",
      "4.29\n",
      "4.3\n",
      "4.31\n",
      "4.32\n",
      "4.33\n",
      "4.34\n",
      "4.35\n",
      "4.36\n",
      "4.37\n",
      "4.38\n",
      "4.39\n",
      "4.4\n",
      "4.41\n",
      "4.42\n",
      "4.43\n",
      "4.44\n",
      "4.45\n",
      "4.46\n",
      "4.47\n",
      "4.48\n",
      "4.49\n",
      "4.5\n",
      "4.51\n",
      "4.52\n",
      "4.53\n",
      "4.54\n",
      "4.55\n",
      "4.56\n",
      "4.57\n",
      "4.58\n",
      "4.59\n",
      "4.6\n",
      "4.61\n",
      "4.62\n",
      "4.63\n",
      "4.64\n",
      "4.65\n",
      "4.66\n",
      "4.67\n",
      "4.68\n",
      "4.69\n",
      "4.7\n",
      "4.71\n",
      "4.72\n",
      "4.73\n",
      "4.74\n",
      "4.75\n",
      "4.76\n",
      "4.77\n",
      "4.78\n",
      "4.79\n",
      "4.8\n",
      "4.81\n",
      "4.82\n",
      "4.83\n",
      "4.84\n",
      "4.85\n",
      "4.86\n",
      "4.87\n",
      "4.88\n",
      "4.89\n",
      "4.9\n",
      "4.91\n",
      "4.92\n",
      "4.93\n",
      "4.94\n",
      "4.95\n",
      "4.96\n",
      "4.97\n",
      "4.98\n",
      "4.99\n",
      "5.0\n",
      "5.01\n",
      "5.02\n",
      "5.03\n",
      "5.04\n",
      "5.05\n",
      "5.06\n",
      "5.07\n",
      "5.08\n",
      "5.09\n",
      "5.1\n",
      "5.11\n",
      "5.12\n",
      "5.13\n",
      "5.14\n",
      "5.15\n",
      "5.16\n",
      "5.17\n",
      "5.18\n",
      "5.19\n",
      "5.2\n",
      "5.21\n",
      "5.22\n",
      "5.23\n",
      "5.24\n",
      "5.25\n",
      "5.26\n",
      "5.27\n",
      "5.28\n",
      "5.29\n",
      "5.3\n",
      "5.31\n",
      "5.32\n",
      "5.33\n",
      "5.34\n",
      "5.35\n",
      "5.36\n",
      "5.37\n",
      "5.38\n",
      "5.39\n",
      "5.4\n",
      "5.41\n",
      "5.42\n",
      "5.43\n",
      "5.44\n",
      "5.45\n",
      "5.46\n",
      "5.47\n",
      "5.48\n",
      "5.49\n",
      "5.5\n",
      "5.51\n",
      "5.52\n",
      "5.53\n",
      "5.54\n",
      "5.55\n",
      "5.56\n",
      "5.57\n",
      "5.58\n",
      "5.59\n",
      "5.6\n",
      "5.61\n",
      "5.62\n",
      "5.63\n",
      "5.64\n",
      "5.65\n",
      "5.66\n",
      "5.67\n",
      "5.68\n",
      "5.69\n",
      "5.7\n",
      "5.71\n",
      "5.72\n",
      "5.73\n",
      "5.74\n",
      "5.75\n",
      "5.76\n",
      "5.77\n",
      "5.78\n",
      "5.79\n",
      "5.8\n",
      "5.81\n",
      "5.82\n",
      "5.83\n",
      "5.84\n",
      "5.85\n",
      "5.86\n",
      "5.87\n",
      "5.88\n",
      "5.89\n",
      "5.9\n",
      "5.91\n",
      "5.92\n",
      "5.93\n",
      "5.94\n",
      "5.95\n",
      "5.96\n",
      "5.97\n",
      "5.98\n",
      "5.99\n",
      "6.0\n",
      "6.01\n",
      "6.02\n",
      "6.03\n",
      "6.04\n",
      "6.05\n",
      "6.06\n",
      "6.07\n",
      "6.08\n",
      "6.09\n",
      "6.1\n",
      "6.11\n",
      "6.12\n",
      "6.13\n",
      "6.14\n",
      "6.15\n",
      "6.16\n",
      "6.17\n",
      "6.18\n",
      "6.19\n",
      "6.2\n",
      "6.21\n",
      "6.22\n",
      "6.23\n",
      "6.24\n",
      "6.25\n",
      "6.26\n",
      "6.27\n",
      "6.28\n",
      "6.29\n",
      "6.3\n",
      "6.31\n",
      "6.32\n",
      "6.33\n",
      "6.34\n",
      "6.35\n",
      "6.36\n",
      "6.37\n",
      "6.38\n",
      "6.39\n",
      "6.4\n",
      "6.41\n",
      "6.42\n",
      "6.43\n",
      "6.44\n",
      "6.45\n",
      "6.46\n",
      "6.47\n",
      "6.48\n",
      "6.49\n",
      "6.5\n",
      "6.51\n",
      "6.52\n",
      "6.53\n",
      "6.54\n",
      "6.55\n",
      "6.56\n",
      "6.57\n",
      "6.58\n",
      "6.59\n",
      "6.6\n",
      "6.61\n",
      "6.62\n",
      "6.63\n",
      "6.64\n",
      "6.65\n",
      "6.66\n",
      "6.67\n",
      "6.68\n",
      "6.69\n",
      "6.7\n",
      "6.71\n",
      "6.72\n",
      "6.73\n",
      "6.74\n",
      "6.75\n",
      "6.76\n",
      "6.77\n",
      "6.78\n",
      "6.79\n",
      "6.8\n",
      "6.81\n",
      "6.82\n",
      "6.83\n",
      "6.84\n",
      "6.85\n",
      "6.86\n",
      "6.87\n",
      "6.88\n",
      "6.89\n",
      "6.9\n",
      "6.91\n",
      "6.92\n",
      "6.93\n",
      "6.94\n",
      "6.95\n",
      "6.96\n",
      "6.97\n",
      "6.98\n",
      "6.99\n",
      "7.0\n",
      "7.01\n",
      "7.02\n",
      "7.03\n",
      "7.04\n",
      "7.05\n",
      "7.06\n",
      "7.07\n",
      "7.08\n",
      "7.09\n",
      "7.1\n",
      "7.11\n",
      "7.12\n",
      "7.13\n",
      "7.14\n",
      "7.15\n",
      "7.16\n",
      "7.17\n",
      "7.18\n",
      "7.19\n",
      "7.2\n",
      "7.21\n",
      "7.22\n",
      "7.23\n",
      "7.24\n",
      "7.25\n",
      "7.26\n",
      "7.27\n",
      "7.28\n",
      "7.29\n",
      "7.3\n",
      "7.31\n",
      "7.32\n",
      "7.33\n",
      "7.34\n",
      "7.35\n",
      "7.36\n",
      "7.37\n",
      "7.38\n",
      "7.39\n",
      "7.4\n",
      "7.41\n",
      "7.42\n",
      "7.43\n",
      "7.44\n",
      "7.45\n",
      "7.46\n",
      "7.47\n",
      "7.48\n",
      "7.49\n",
      "7.5\n",
      "7.51\n",
      "7.52\n",
      "7.53\n",
      "7.54\n",
      "7.55\n",
      "7.56\n",
      "7.57\n",
      "7.58\n",
      "7.59\n",
      "7.6\n",
      "7.61\n",
      "7.62\n",
      "7.63\n",
      "7.64\n",
      "7.65\n",
      "7.66\n",
      "7.67\n",
      "7.68\n",
      "7.69\n",
      "7.7\n",
      "7.71\n",
      "7.72\n",
      "7.73\n",
      "7.74\n",
      "7.75\n",
      "7.76\n",
      "7.77\n",
      "7.78\n",
      "7.79\n",
      "7.8\n",
      "7.81\n",
      "7.82\n",
      "7.83\n",
      "7.84\n",
      "7.85\n",
      "7.86\n",
      "7.87\n",
      "7.88\n",
      "7.89\n",
      "7.9\n",
      "7.91\n",
      "7.92\n",
      "7.93\n",
      "7.94\n",
      "7.95\n",
      "7.96\n",
      "7.97\n",
      "7.98\n",
      "7.99\n",
      "8.0\n",
      "8.01\n",
      "8.02\n",
      "8.03\n",
      "8.04\n",
      "8.05\n",
      "8.06\n",
      "8.07\n",
      "8.08\n",
      "8.09\n",
      "8.1\n",
      "8.11\n",
      "8.12\n",
      "8.13\n",
      "8.14\n",
      "8.15\n",
      "8.16\n",
      "8.17\n",
      "8.18\n",
      "8.19\n",
      "8.2\n",
      "8.21\n",
      "8.22\n",
      "8.23\n",
      "8.24\n",
      "8.25\n",
      "8.26\n",
      "8.27\n",
      "8.28\n",
      "8.29\n",
      "8.3\n",
      "8.31\n",
      "8.32\n",
      "8.33\n",
      "8.34\n",
      "8.35\n",
      "8.36\n",
      "8.37\n",
      "8.38\n",
      "8.39\n",
      "8.4\n",
      "8.41\n",
      "8.42\n",
      "8.43\n",
      "8.44\n",
      "8.45\n",
      "8.46\n",
      "8.47\n",
      "8.48\n",
      "8.49\n",
      "8.5\n",
      "8.51\n",
      "8.52\n",
      "8.53\n",
      "8.54\n",
      "8.55\n",
      "8.56\n",
      "8.57\n",
      "8.58\n",
      "8.59\n",
      "8.6\n",
      "8.61\n",
      "8.62\n",
      "8.63\n",
      "8.64\n",
      "8.65\n",
      "8.66\n",
      "8.67\n",
      "8.68\n",
      "8.69\n",
      "8.7\n",
      "8.71\n",
      "8.72\n",
      "8.73\n",
      "8.74\n",
      "8.75\n",
      "8.76\n",
      "8.77\n",
      "8.78\n",
      "8.79\n",
      "8.8\n",
      "8.81\n",
      "8.82\n",
      "8.83\n",
      "8.84\n",
      "8.85\n",
      "8.86\n",
      "8.87\n",
      "8.88\n",
      "8.89\n",
      "8.9\n",
      "8.91\n",
      "8.92\n",
      "8.93\n",
      "8.94\n",
      "8.95\n",
      "8.96\n",
      "8.97\n",
      "8.98\n",
      "8.99\n",
      "9.0\n",
      "9.01\n",
      "9.02\n",
      "9.03\n",
      "9.04\n",
      "9.05\n",
      "9.06\n",
      "9.07\n",
      "9.08\n",
      "9.09\n",
      "9.1\n",
      "9.11\n",
      "9.12\n",
      "9.13\n",
      "9.14\n",
      "9.15\n",
      "9.16\n",
      "9.17\n",
      "9.18\n",
      "9.19\n",
      "9.2\n",
      "9.21\n",
      "9.22\n",
      "9.23\n",
      "9.24\n",
      "9.25\n",
      "9.26\n",
      "9.27\n",
      "9.28\n",
      "9.29\n",
      "9.3\n",
      "9.31\n",
      "9.32\n",
      "9.33\n",
      "9.34\n",
      "9.35\n",
      "9.36\n",
      "9.37\n",
      "9.38\n",
      "9.39\n",
      "9.4\n",
      "9.41\n",
      "9.42\n",
      "9.43\n",
      "9.44\n",
      "9.45\n",
      "9.46\n",
      "9.47\n",
      "9.48\n",
      "9.49\n",
      "9.5\n",
      "9.51\n",
      "9.52\n",
      "9.53\n",
      "9.54\n",
      "9.55\n",
      "9.56\n",
      "9.57\n",
      "9.58\n",
      "9.59\n",
      "9.6\n",
      "9.61\n",
      "9.62\n",
      "9.63\n",
      "9.64\n",
      "9.65\n",
      "9.66\n",
      "9.67\n",
      "9.68\n",
      "9.69\n",
      "9.7\n",
      "9.71\n",
      "9.72\n",
      "9.73\n",
      "9.74\n",
      "9.75\n",
      "9.76\n",
      "9.77\n",
      "9.78\n",
      "9.79\n",
      "9.8\n",
      "9.81\n",
      "9.82\n",
      "9.83\n",
      "9.84\n",
      "9.85\n",
      "9.86\n",
      "9.87\n",
      "9.88\n",
      "9.89\n",
      "9.9\n",
      "9.91\n",
      "9.92\n",
      "9.93\n",
      "9.94\n",
      "9.95\n",
      "9.96\n",
      "9.97\n",
      "9.98\n",
      "9.99\n",
      "10.0\n",
      "10.01\n"
     ]
    }
   ],
   "source": [
    "t=0\n",
    "dt=0.01\n",
    "while t < 10.0:\n",
    "    t=t+dt\n",
    "    print(t)"
   ]
  },
  {
   "cell_type": "markdown",
   "metadata": {},
   "source": [
    "Just as we updated the clock using ``t=t+dt``, we also want to update the object's position. Physics tells us that the object's new position is given by:\n",
    "\n",
    "$$\\mbox{future position}  =   \\mbox{position now} + \\mbox{velocity} \\times \\mbox{time step}$$\n",
    "\n",
    "$$\\vec{r}_f = \\vec{r}_i + \\vec{v}\\Delta t$$\n",
    "\n",
    "This is called the *position update equation*. It says, \"take the current position of the object, add its displacement, and assign the future position of the object at the end of the time interval to the result.\" In Python the \"=\" sign is an *assignment* operator. It takes the result on the right side of the = sign and assigns its value to the variable on the left. \n",
    "\n",
    "In VPython, to update the position of the object named ``ball`` with velocity ``ball.v``, we will write\n",
    "\n",
    "```python\n",
    "\n",
    "ball.pos=ball.pos+ball.v*dt\n",
    "\n",
    "```\n",
    "\n",
    "You may have noticed that the ``while`` loop in the previous program ran much faster than real time. The clock counted from zero to 10 s in steps of 0.01 s faster than a real clock. For animation where the position of objects is updated, it is desirable to slow down the loop so you can observe the objects move. Inside the ``while`` loop, we will add a ``rate()`` statement to control how fast the loop iterates. In this program:\n",
    "\n",
    "```python\n",
    "\n",
    "t=0\n",
    "dt=0.01\n",
    "while t < 10.0:\n",
    "    rate(100)\n",
    "    t=t+dt\n",
    "    print(t)\n",
    "\n",
    "```\n",
    "\n",
    "``rate(100)`` tells the computer to run the loop 100 times in one second. Since $dt=0.01$ then this program should increment $t$ at approximately real time.\n",
    "\n",
    "Now, let's put all of this together to make our final program that models the motion of a ball moving with constant velocity. Run the program below. Note that there are three distinct parts of the program:\n",
    "\n",
    "1. create the 3D objects and scene\n",
    "2. define the velocity, clock reading, and time step\n",
    "3. use a loop to update position and clock reading"
   ]
  },
  {
   "cell_type": "code",
   "execution_count": 12,
   "metadata": {
    "collapsed": false
   },
   "outputs": [
    {
     "data": {
      "text/html": [
       "<div id=\"glowscript\" class=\"glowscript\"></div>"
      ],
      "text/plain": [
       "<IPython.core.display.HTML object>"
      ]
     },
     "metadata": {},
     "output_type": "display_data"
    },
    {
     "data": {
      "application/javascript": [
       "window.__context = { glowscript_container: $(\"#glowscript\").removeAttr(\"id\")}"
      ],
      "text/plain": [
       "<IPython.core.display.Javascript object>"
      ]
     },
     "metadata": {},
     "output_type": "display_data"
    }
   ],
   "source": [
    "#create the scene and 3D objects\n",
    "scene=canvas(title=\"Ball on Track with Constant Velocity\")\n",
    "track=box(pos=vector(0,-0.075,0), size=vector(3,0.05,0.1), color=color.white)\n",
    "ball=sphere(pos=vector(-1.4,0,0), radius=0.05, color=color.orange)\n",
    "\n",
    "#define the velocity of the ball, the clock reading, and the time step\n",
    "ball.v=0.3*vector(1,0,0)\n",
    "dt=0.01\n",
    "t=0\n",
    "\n",
    "#use a while loop to update the position of the ball and clock after each time step\n",
    "while t<10:\n",
    "    rate(100)\n",
    "    ball.pos=ball.pos+ball.v*dt\n",
    "    t=t+dt\n"
   ]
  },
  {
   "cell_type": "markdown",
   "metadata": {},
   "source": [
    "## Graphing Computed Data"
   ]
  },
  {
   "cell_type": "markdown",
   "metadata": {},
   "source": [
    "To graph computed data using VPython, we must create a graph display and a create a curve. Then, as we update the position and clock reading in each time step, we will add a data point to the graph.\n",
    "\n",
    "To create a graph with a title and axis labels, use the ``graph()`` function.\n",
    "\n",
    "```python\n",
    "\n",
    "xGraph=graph(title=\"x(t) for a ball on a track\", xtitle='t (s)',ytitle='x (m)', width=400, height=150)\n",
    "\n",
    "```\n",
    "\n",
    "To create a curve, use the ``gcurve`` function.\n",
    "\n",
    "```python\n",
    "\n",
    "xtdata=gcurve(color=color.blue, graph=xGraph)\n",
    "\n",
    "```\n",
    "\n",
    "To add data points to this curve, use the ``plot()`` function.\n",
    "\n",
    "```python\n",
    "\n",
    "xtdata.plot(t,ball.pos.x)\n",
    "\n",
    "```\n",
    "\n",
    "Note that I have given names to the graph and the curve. This allows us to plot more than one curve on a graph or to create more than one graph. Also, remember that you cannot graph a vector. You can only graph scalars. Therefore, we must graph just the x-position of the ball ``ball.pos.x`` as a function of time. Altneratively, the y-position of the ball or z-position of the ball can be graphed, but not ``ball.pos`` because this is a vector.\n",
    "\n",
    "To observe this in action, run the program below."
   ]
  },
  {
   "cell_type": "code",
   "execution_count": 13,
   "metadata": {
    "collapsed": false
   },
   "outputs": [
    {
     "data": {
      "text/html": [
       "<div id=\"glowscript\" class=\"glowscript\"></div>"
      ],
      "text/plain": [
       "<IPython.core.display.HTML object>"
      ]
     },
     "metadata": {},
     "output_type": "display_data"
    },
    {
     "data": {
      "application/javascript": [
       "window.__context = { glowscript_container: $(\"#glowscript\").removeAttr(\"id\")}"
      ],
      "text/plain": [
       "<IPython.core.display.Javascript object>"
      ]
     },
     "metadata": {},
     "output_type": "display_data"
    }
   ],
   "source": [
    "#create the scene and objects\n",
    "scene=canvas(title=\"Ball on Track with Constant Velocity\")\n",
    "track=box(pos=vector(0,-0.075,0), size=vector(3,0.05,0.1), color=color.white)\n",
    "ball=sphere(pos=vector(-1.4,0,0), radius=0.05, color=color.orange)\n",
    "\n",
    "#set the initial values for the velocity, time step, and clock reading.\n",
    "ball.v=0.3*vector(1,0,0)\n",
    "dt=0.01\n",
    "t=0\n",
    "\n",
    "#create a graph\n",
    "xGraph=graph(title=\"x(t) for a ball on a track\", xtitle='t (s)',ytitle='x (m)', width=600, height=200)\n",
    "\n",
    "#create curve\n",
    "xtdata=gcurve(color=color.blue, graph=xGraph)\n",
    "\n",
    "while t<10:\n",
    "    rate(100)\n",
    "\n",
    "    #update position and time\n",
    "    ball.pos=ball.pos+ball.v*dt\n",
    "    t=t+dt\n",
    "    \n",
    "    #plot a data point to the x(t) curve\n",
    "    xtdata.plot(t,ball.pos.x)    \n"
   ]
  },
  {
   "cell_type": "markdown",
   "metadata": {},
   "source": [
    "You will notice that the graph autoscales. This is sometimes distracting. It is possible to set the limits of the x and y axes of the graph using the parameters ``xmin``, ``xmax``, ``ymin``, and ``xmax``. In the program below, I use these parameters in the ``graph()`` function."
   ]
  },
  {
   "cell_type": "code",
   "execution_count": 14,
   "metadata": {
    "collapsed": false
   },
   "outputs": [
    {
     "data": {
      "text/html": [
       "<div id=\"glowscript\" class=\"glowscript\"></div>"
      ],
      "text/plain": [
       "<IPython.core.display.HTML object>"
      ]
     },
     "metadata": {},
     "output_type": "display_data"
    },
    {
     "data": {
      "application/javascript": [
       "window.__context = { glowscript_container: $(\"#glowscript\").removeAttr(\"id\")}"
      ],
      "text/plain": [
       "<IPython.core.display.Javascript object>"
      ]
     },
     "metadata": {},
     "output_type": "display_data"
    }
   ],
   "source": [
    "#create the scene and objects\n",
    "scene=canvas(title=\"Ball on Track with Constant Velocity\")\n",
    "track=box(pos=vector(0,-0.075,0), size=vector(3,0.05,0.1), color=color.white)\n",
    "ball=sphere(pos=vector(-1.4,0,0), radius=0.05, color=color.orange)\n",
    "\n",
    "#set the initial values for the velocity, time step, and clock reading.\n",
    "ball.v=0.3*vector(1,0,0)\n",
    "dt=0.01\n",
    "t=0\n",
    "\n",
    "#create a graph\n",
    "xGraph=graph(title=\"x(t) for a ball on a track\", xtitle='t (s)',\n",
    "             xmin=0, xmax=10, ymin=-2, ymax=2,\n",
    "             ytitle='x (m)', width=600, height=200)\n",
    "\n",
    "#create curve\n",
    "xtdata=gcurve(color=color.blue, graph=xGraph)\n",
    "\n",
    "while t<10:\n",
    "    rate(100)\n",
    "\n",
    "    #update position and time\n",
    "    ball.pos=ball.pos+ball.v*dt\n",
    "    t=t+dt\n",
    "    \n",
    "    #plot a data point to the x(t) curve\n",
    "    xtdata.plot(t,ball.pos.x)    \n"
   ]
  },
  {
   "cell_type": "markdown",
   "metadata": {},
   "source": [
    "For complete VPython documentation, go to [glowscript.org](http://www.glowscript.org/docs/VPythonDocs/index.html). GlowScript is a web-based application for writing and running VPython. It uses Google authentication, so it requires a gmail account. Jupyter is a general editor that includes stylized text, mathematical markup, and live code. It works with all Python packages (that have been installed on the server). GlowScript is exclusively for writing and running VPython and is recommended for first-time VPython programmers."
   ]
  },
  {
   "cell_type": "code",
   "execution_count": null,
   "metadata": {
    "collapsed": true
   },
   "outputs": [],
   "source": []
  }
 ],
 "metadata": {
  "anaconda-cloud": {},
  "kernelspec": {
   "display_name": "Python 2",
   "language": "python",
   "name": "python2"
  },
  "language_info": {
   "codemirror_mode": {
    "name": "ipython",
    "version": 2
   },
   "file_extension": ".py",
   "mimetype": "text/x-python",
   "name": "python",
   "nbconvert_exporter": "python",
   "pygments_lexer": "ipython2",
   "version": "2.7.13"
  }
 },
 "nbformat": 4,
 "nbformat_minor": 1
}
